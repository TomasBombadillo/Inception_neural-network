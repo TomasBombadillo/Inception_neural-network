{
  "nbformat": 4,
  "nbformat_minor": 0,
  "metadata": {
    "colab": {
      "name": "Tarea4_TLM.ipynb",
      "version": "0.3.2",
      "provenance": [],
      "collapsed_sections": [],
      "include_colab_link": true
    },
    "kernelspec": {
      "name": "python3",
      "display_name": "Python 3"
    },
    "accelerator": "GPU"
  },
  "cells": [
    {
      "cell_type": "markdown",
      "metadata": {
        "id": "view-in-github",
        "colab_type": "text"
      },
      "source": [
        "[View in Colaboratory](https://colab.research.google.com/github/TomasBombadillo/Inception_neural-network/blob/master/Tarea4_TLM.ipynb)"
      ]
    },
    {
      "metadata": {
        "id": "nI12EWfT51V8",
        "colab_type": "code",
        "colab": {}
      },
      "cell_type": "code",
      "source": [
        "import numpy as np\n",
        "import tensorflow as tf\n",
        "import matplotlib\n",
        "import matplotlib.pyplot as plt\n",
        "%matplotlib inline\n"
      ],
      "execution_count": 0,
      "outputs": []
    },
    {
      "metadata": {
        "id": "tbmzYTIH7Q9e",
        "colab_type": "code",
        "colab": {
          "base_uri": "https://localhost:8080/",
          "height": 411
        },
        "outputId": "811bb278-53c8-4808-ccda-717ceca0612b"
      },
      "cell_type": "code",
      "source": [
        "from tensorflow.examples.tutorials.mnist import input_data\n",
        "\n",
        "mnist = input_data.read_data_sets(\"data/\",one_hot=True)\n",
        "X_train = mnist.train.images\n",
        "X_test = mnist.test.images\n",
        "y_train = mnist.train.labels.astype(\"int\")\n",
        "y_test = mnist.test.labels.astype(\"int\")"
      ],
      "execution_count": 2,
      "outputs": [
        {
          "output_type": "stream",
          "text": [
            "WARNING:tensorflow:From <ipython-input-2-af9cbe468c3c>:3: read_data_sets (from tensorflow.contrib.learn.python.learn.datasets.mnist) is deprecated and will be removed in a future version.\n",
            "Instructions for updating:\n",
            "Please use alternatives such as official/mnist/dataset.py from tensorflow/models.\n",
            "WARNING:tensorflow:From /usr/local/lib/python3.6/dist-packages/tensorflow/contrib/learn/python/learn/datasets/mnist.py:260: maybe_download (from tensorflow.contrib.learn.python.learn.datasets.base) is deprecated and will be removed in a future version.\n",
            "Instructions for updating:\n",
            "Please write your own downloading logic.\n",
            "WARNING:tensorflow:From /usr/local/lib/python3.6/dist-packages/tensorflow/contrib/learn/python/learn/datasets/mnist.py:262: extract_images (from tensorflow.contrib.learn.python.learn.datasets.mnist) is deprecated and will be removed in a future version.\n",
            "Instructions for updating:\n",
            "Please use tf.data to implement this functionality.\n",
            "Extracting data/train-images-idx3-ubyte.gz\n",
            "WARNING:tensorflow:From /usr/local/lib/python3.6/dist-packages/tensorflow/contrib/learn/python/learn/datasets/mnist.py:267: extract_labels (from tensorflow.contrib.learn.python.learn.datasets.mnist) is deprecated and will be removed in a future version.\n",
            "Instructions for updating:\n",
            "Please use tf.data to implement this functionality.\n",
            "Extracting data/train-labels-idx1-ubyte.gz\n",
            "WARNING:tensorflow:From /usr/local/lib/python3.6/dist-packages/tensorflow/contrib/learn/python/learn/datasets/mnist.py:110: dense_to_one_hot (from tensorflow.contrib.learn.python.learn.datasets.mnist) is deprecated and will be removed in a future version.\n",
            "Instructions for updating:\n",
            "Please use tf.one_hot on tensors.\n",
            "Extracting data/t10k-images-idx3-ubyte.gz\n",
            "Extracting data/t10k-labels-idx1-ubyte.gz\n",
            "WARNING:tensorflow:From /usr/local/lib/python3.6/dist-packages/tensorflow/contrib/learn/python/learn/datasets/mnist.py:290: DataSet.__init__ (from tensorflow.contrib.learn.python.learn.datasets.mnist) is deprecated and will be removed in a future version.\n",
            "Instructions for updating:\n",
            "Please use alternatives such as official/mnist/dataset.py from tensorflow/models.\n"
          ],
          "name": "stdout"
        }
      ]
    },
    {
      "metadata": {
        "id": "n_ghjbOlGdiU",
        "colab_type": "code",
        "colab": {}
      },
      "cell_type": "code",
      "source": [
        "def inception_layer(IN,n_convs,kernels,strides):\n",
        "  convo11 = tf.layers.conv2d(IN,\n",
        "                         n_convs[0][0],\n",
        "                         kernel_size=kernels[0][0],\n",
        "                         strides=strides[0][0],\n",
        "                         padding=\"SAME\",\n",
        "                         activation=tf.nn.relu)\n",
        "  \n",
        "  convo21 = tf.layers.conv2d(IN,\n",
        "                         n_convs[1][0],\n",
        "                         kernel_size=kernels[1][0],\n",
        "                         strides=strides[1][0],\n",
        "                         padding=\"SAME\",\n",
        "                         activation=tf.nn.relu)\n",
        "  convo22 = tf.layers.conv2d(convo21,\n",
        "                         n_convs[1][1],\n",
        "                         kernel_size=kernels[1][1],\n",
        "                         strides=strides[1][1],\n",
        "                         padding=\"SAME\",\n",
        "                         activation=tf.nn.relu)\n",
        "  \n",
        "  convo31 = tf.layers.conv2d(IN,\n",
        "                         n_convs[2][0],\n",
        "                         kernel_size=kernels[2][0],\n",
        "                         strides=strides[2][0],\n",
        "                         padding=\"SAME\",\n",
        "                         activation=tf.nn.relu)\n",
        "  convo32 = tf.layers.conv2d(convo31,\n",
        "                         n_convs[2][1],\n",
        "                         kernel_size=kernels[2][1],\n",
        "                         strides=strides[2][1],\n",
        "                         padding=\"SAME\",\n",
        "                         activation=tf.nn.relu)\n",
        "  convo33 = tf.layers.conv2d(convo32,\n",
        "                         n_convs[2][2],\n",
        "                         kernel_size=kernels[2][2],\n",
        "                         strides=strides[2][2],\n",
        "                         padding=\"SAME\",\n",
        "                         activation=tf.nn.relu)\n",
        "  \n",
        "  concat = tf.concat([convo11,convo22,convo33],axis=3)\n",
        "  \n",
        "  convo_end = tf.layers.conv2d(concat,\n",
        "                         64,\n",
        "                         kernel_size=1,\n",
        "                         strides=1,\n",
        "                         padding=\"SAME\",\n",
        "                         activation=None)\n",
        "  \n",
        "  convo_end = tf.nn.relu(tf.add(convo_end,pool1))\n",
        "  \n",
        "  \n",
        "  return convo_end"
      ],
      "execution_count": 0,
      "outputs": []
    },
    {
      "metadata": {
        "id": "VbGCweB637ED",
        "colab_type": "code",
        "colab": {}
      },
      "cell_type": "code",
      "source": [
        ""
      ],
      "execution_count": 0,
      "outputs": []
    },
    {
      "metadata": {
        "id": "oW88MVCT8aXB",
        "colab_type": "code",
        "colab": {}
      },
      "cell_type": "code",
      "source": [
        "convos = 64\n",
        "conv_kernel = 3\n",
        "conv_stride = 1\n",
        "inception = [[32],[32,32],[32,32,32]]\n",
        "inc_kernels = [[1],[1,3],[1,3,3]]\n",
        "inc_strides = [[1],[1,1],[1,1,1]]\n",
        "pools = [2,2]"
      ],
      "execution_count": 0,
      "outputs": []
    },
    {
      "metadata": {
        "id": "3Jkj8pQp_7Jq",
        "colab_type": "code",
        "colab": {}
      },
      "cell_type": "code",
      "source": [
        "tf.reset_default_graph()\n",
        "\n",
        "X = tf.placeholder(tf.float32, shape=(None, 28,28, 1))\n",
        "y = tf.placeholder(tf.float32, shape=(None, 10))\n",
        "\n",
        "convo = tf.layers.conv2d(X,\n",
        "\t\t\t\t\t\tconvos,\n",
        "\t\t\t\t\t\tkernel_size = conv_kernel,\n",
        "\t\t\t\t\t\tstrides = conv_stride,\n",
        "\t\t\t\t\t\tpadding = \"SAME\",\n",
        "\t\t\t\t\t\tactivation = tf.nn.relu)\n",
        "\n",
        "pool1 = tf.layers.max_pooling2d(convo,\n",
        "\t\t\t\t\t\tpool_size= pools[0],\n",
        "\t\t\t\t\t\tstrides = pools[0],\n",
        "\t\t\t\t\t\tpadding = \"SAME\")\n",
        "\n",
        "incept = inception_layer(pool1,\n",
        "\t\t\t\t\t\tinception,\n",
        "\t\t\t\t\t\tinc_kernels,\n",
        "\t\t\t\t\t\tinc_strides)\n",
        "\n",
        "pool2 = tf.layers.max_pooling2d(incept,\n",
        "\t\t\t\t\t\tpool_size= pools[1],\n",
        "\t\t\t\t\t\tstrides = pools[1],\n",
        "\t\t\t\t\t\tpadding = \"SAME\")\n",
        "\n",
        "flat = tf.reshape(pool2, shape=[-1, pool2.shape[1] * pool2.shape[2] * pool2.shape[3]])\n",
        "\n",
        "dense = tf.layers.dense(flat, 64, activation=tf.nn.relu)\n",
        "\n",
        "logits = tf.layers.dense(dense, 10)\n",
        "y_pred=tf.nn.softmax(logits)"
      ],
      "execution_count": 0,
      "outputs": []
    },
    {
      "metadata": {
        "id": "vYwsdliDFUu-",
        "colab_type": "code",
        "colab": {}
      },
      "cell_type": "code",
      "source": [
        "xentropy = tf.nn.softmax_cross_entropy_with_logits_v2(labels=y,logits=logits)\n",
        "loss = tf.reduce_mean(xentropy, name=\"loss\")\n",
        "\n",
        "learning_rate = 0.001\n",
        "optimizer = tf.train.AdamOptimizer(learning_rate)\n",
        "training_op = optimizer.minimize(loss)\n",
        "\n",
        "correct = tf.equal(tf.argmax(y,1),tf.argmax(y_pred,1))\n",
        "accuracy = tf.reduce_mean(tf.cast(correct, tf.float32))\n",
        "\n",
        "init = tf.global_variables_initializer()\n",
        "saver = tf.train.Saver()"
      ],
      "execution_count": 0,
      "outputs": []
    },
    {
      "metadata": {
        "id": "SUVOQ6H_UDh7",
        "colab_type": "code",
        "colab": {
          "base_uri": "https://localhost:8080/",
          "height": 187
        },
        "outputId": "0180a602-6edf-4917-9d47-13ebcbd1fda5"
      },
      "cell_type": "code",
      "source": [
        "n_epochs = 10\n",
        "batch_size = 50\n",
        "iters=mnist.train.num_examples // batch_size\n",
        "accu = []\n",
        "with tf.Session() as sess:\n",
        "    init.run()\n",
        "    for epoch in range(n_epochs):\n",
        "        acc_train=0\n",
        "        for iteration in range(iters):\n",
        "            X_batch, y_batch = mnist.train.next_batch(batch_size)\n",
        "            curr_acc,_=sess.run([accuracy,training_op], feed_dict={X: X_batch.reshape(-1,28,28,1), y: y_batch})\n",
        "            acc_train += curr_acc\n",
        "            accu.append(curr_acc)\n",
        "        acc_test = accuracy.eval(feed_dict={X: mnist.test.images.reshape(-1,28,28,1), y: mnist.test.labels})\n",
        "        print(epoch, \"Train accuracy:\", acc_train/iters, \"Test accuracy:\", acc_test)\n",
        "\n",
        "    save_path = saver.save(sess, \"./my_model_final.ckpt\")"
      ],
      "execution_count": 7,
      "outputs": [
        {
          "output_type": "stream",
          "text": [
            "0 Train accuracy: 0.9500000005689534 Test accuracy: 0.9806\n",
            "1 Train accuracy: 0.984600003415888 Test accuracy: 0.9863\n",
            "2 Train accuracy: 0.9889272768389095 Test accuracy: 0.9894\n",
            "3 Train accuracy: 0.9911636406183243 Test accuracy: 0.9921\n",
            "4 Train accuracy: 0.9932909124547785 Test accuracy: 0.9916\n",
            "5 Train accuracy: 0.9941636397079988 Test accuracy: 0.991\n",
            "6 Train accuracy: 0.9953636393763802 Test accuracy: 0.9862\n",
            "7 Train accuracy: 0.9958727302334526 Test accuracy: 0.9907\n",
            "8 Train accuracy: 0.9962909117070111 Test accuracy: 0.9921\n",
            "9 Train accuracy: 0.9971818201650273 Test accuracy: 0.9919\n"
          ],
          "name": "stdout"
        }
      ]
    },
    {
      "metadata": {
        "id": "OjVR96kMWVhl",
        "colab_type": "code",
        "colab": {
          "base_uri": "https://localhost:8080/",
          "height": 612
        },
        "outputId": "00724c3e-a08d-4ab7-e3b6-f88ca7363707"
      },
      "cell_type": "code",
      "source": [
        "plt.figure(figsize=(20,10))\n",
        "plt.semilogx(np.arange(iters*n_epochs),accu)"
      ],
      "execution_count": 16,
      "outputs": [
        {
          "output_type": "execute_result",
          "data": {
            "text/plain": [
              "[<matplotlib.lines.Line2D at 0x7f4c26b855f8>]"
            ]
          },
          "metadata": {
            "tags": []
          },
          "execution_count": 16
        },
        {
          "output_type": "display_data",
          "data": {
            "image/png": "[encoded data removed]",
            "text/plain": [
              "<matplotlib.figure.Figure at 0x7f4c26b28f60>"
            ]
          },
          "metadata": {
            "tags": []
          }
        }
      ]
    },
    {
      "metadata": {
        "id": "owTR2_5j4x0v",
        "colab_type": "code",
        "colab": {}
      },
      "cell_type": "code",
      "source": [
        ""
      ],
      "execution_count": 0,
      "outputs": []
    }
  ]
}